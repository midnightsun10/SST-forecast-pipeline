{
 "cells": [
  {
   "cell_type": "code",
   "execution_count": 1,
   "id": "ef68ce9a",
   "metadata": {},
   "outputs": [],
   "source": [
    "import xarray as xr\n",
    "import numpy as np\n",
    "import pandas as pd\n",
    "import xesmf as xe\n",
    "import sys\n",
    "import gc\n",
    "import warnings\n",
    "warnings.filterwarnings('ignore')\n",
    "\n",
    "sys.path.append('/home/brayan/mnsun/')\n",
    "from utils import check_dir"
   ]
  },
  {
   "cell_type": "code",
   "execution_count": 2,
   "id": "15cac7ce",
   "metadata": {},
   "outputs": [],
   "source": [
    "def wind_to_stress(U, V):\n",
    "    \"\"\"\n",
    "    Fucnion para convertir vientos a esfuerzo de vientos\n",
    "    \n",
    "    Imputs: U --> Array (time,lat,lon)\n",
    "            V --> Array (time,lat,lon)\n",
    "    Outputs:\n",
    "            TX --> Array (time,lat,lon)\n",
    "            TY --> Array (time,lat,lon)    \n",
    "    \"\"\"\n",
    "    wind     = np.sqrt(U**2+V**2)\n",
    "    rho      = 1.225\n",
    "    C_d      = 0.0013\n",
    "    \n",
    "    return np.float32(wind*rho*C_d*U), np.float32(wind*rho*C_d*V)\n",
    "\n",
    "def anom_clim( DATA_, lead_):\n",
    "    DATA_0         = DATA_.resample(time=\"1MS\").mean(dim=\"time\")\n",
    "    DATA_1         = DATA_0-DATA_0.mean(dim = (\"time\"))\n",
    "    DATA_2         = (DATA_1.groupby('time.month').sum(dim='time')/int(DATA_.time.shape[0]/365))\n",
    "    # Building climatology\n",
    "    DATA_2_forward = DATA_2.copy()\n",
    "    DATA_2_back    = DATA_2.copy()\n",
    "    DATA_2_back[\"month\"]    = pd.date_range(\"1903-01-01\", \"1903-12-31\", freq=\"MS\").shift(14, freq='D')\n",
    "    DATA_2[\"month\"]         = pd.date_range(\"1904-01-01\", \"1904-12-31\", freq=\"MS\").shift(14, freq='D')\n",
    "    DATA_2_forward[\"month\"] = pd.date_range(\"1905-01-01\", \"1905-12-31\", freq=\"MS\").shift(14, freq='D') \n",
    "    DATA_3                  = xr.concat([DATA_2_back, DATA_2, DATA_2_forward], dim=\"month\").chunk(chunks={'month': 36})\n",
    "    DATA_4                  = DATA_3.interp(month=pd.date_range(\"1903-01-01\", \"1905-12-31\", freq=\"D\"), method=\"cubic\").sel(month=slice(\"1904-01-01\", \"1904-12-31\"))    \n",
    "    DATA_4                  = DATA_4.rename({\"month\":\"dayofyear\"})\n",
    "    DATA_4[\"dayofyear\"]     = np.arange(1,366+1,1, dtype=int)\n",
    "    DATA_5                  = DATA_4.chunk(chunks={'dayofyear': 1}) + DATA_0.mean(dim = (\"time\"))\n",
    "    Clim                    = DATA_5.roll(dayofyear=lead_)\n",
    "    Clim[\"lead\"]            = np.arange(lead_, lead_+1)   \n",
    "    # Anomalies\n",
    "    Anom                       = DATA_.groupby(\"time.dayofyear\") - DATA_5\n",
    "    Anom[\"time\"]               = pd.date_range(str(Anom.time[0].values)[:10],str(Anom.time[-1].values)[:10], freq=\"D\").shift(lead_, freq='D')\n",
    "    Anom[\"lead\"]               = np.arange(lead_+0.5, lead_+1.5)\n",
    "    return Anom, Clim"
   ]
  },
  {
   "cell_type": "markdown",
   "id": "ad660abf",
   "metadata": {},
   "source": [
    "# Introduccion\n",
    "\n",
    "* Una vez que tenemos la data cruda descargada desde S2S, AWS-NCEP y PISCO-Senamhi, debemos estandarizar, procesar y adecuar la data para implementarla al modelo de predicción.\n",
    "\n",
    "* Por ahora solo consideramos la data del S2S para hacer el pre y postprocesamiento.\n",
    "\n",
    "* Al momento de hacer el calculo de la climatologia, a esta data se hace el calculo del lead time (roll). Mientras que las anomalias se indica el lead time que tiene (no se hace roll)."
   ]
  },
  {
   "cell_type": "code",
   "execution_count": 3,
   "id": "88cf8cfa",
   "metadata": {},
   "outputs": [],
   "source": [
    "levels = np.array([200,850])"
   ]
  },
  {
   "cell_type": "code",
   "execution_count": 4,
   "id": "9faf9b31",
   "metadata": {},
   "outputs": [],
   "source": [
    "MODELS = {\"NCEP\":{\"reforecast\":{\"perturbed\":{\"2m_above_ground\"      :{\"2t\"  :{\"LA\": np.arange(0.5,43.5+1,1),\"M\" : np.arange(1,3+1,1)}},\n",
    "                                             \"sfc_precip\"           :{\"tp\"  :{\"L1\": np.arange(1,44+1,1)     ,\"M\" : np.arange(1,3+1,1)}},\n",
    "                                             \"sfc_temperature\"      :{\"wtmp\":{\"LB\": np.arange(1.5,43.5+1,1),\"M\" : np.arange(1,3+1,1)}},\n",
    "                                             \"10m_above_ground\"     :{\"10u\"   :{\"L\": np.arange(0,44+1,1)     ,\"M\" : np.arange(1,3+1,1)},\n",
    "                                                                      \"10v\"   :{\"L\": np.arange(0,44+1,1)     ,\"M\" : np.arange(1,3+1,1)}\n",
    "                                                                      },                                               \n",
    "                                             \"pressure_level_1\"     :{\"q\"   :{\"L\": np.arange(0,44+1,1)     ,\"M\" : np.arange(1,3+1,1),\"P2\":levels}},\n",
    "                                             \"pressure_level_2\"     :{\n",
    "                                                                      \"t\"   :{\"L\": np.arange(0,44+1,1)     ,\"M\" : np.arange(1,3+1,1),\"P\":levels}\n",
    "                                                                      },\n",
    "                                             \"pressure_level_wind\"  :{\"u\"   :{\"L\": np.arange(0,44+1,1)     ,\"M\" : np.arange(1,3+1,1),\"P\":levels},\n",
    "                                                                      \"v\"   :{\"L\": np.arange(0,44+1,1)     ,\"M\" : np.arange(1,3+1,1),\"P\":levels}\n",
    "                                                                      },                                                            \n",
    "                                             \"sfc_rad_flux\"         :{\"ssrd\":{\"L1\": np.arange(1,44+1,1)     ,\"M\" : np.arange(1,3+1,1)},\n",
    "                                                                      \"strd\":{\"L1\": np.arange(1,44+1,1)     ,\"M\" : np.arange(1,3+1,1)}},\n",
    "                                             },\n",
    "                                 \"control\"  :{\"2m_above_ground\"      :{\"2t\"  :{\"LA\": np.arange(0.5,43.5+1,1)}},\n",
    "                                              \"sfc_precip\"           :{\"tp\"  :{\"L1\": np.arange(1,44+1,1)     }},\n",
    "                                              \"sfc_temperature\"      :{\"wtmp\":{\"LB\": np.arange(1.5,43.5+1,1)}},\n",
    "                                              \"10m_above_ground\"     :{\"10u\"   :{\"L\": np.arange(0,44+1,1)     },\n",
    "                                                                       \"10v\"   :{\"L\": np.arange(0,44+1,1)     }\n",
    "                                                                       },                                               \n",
    "                                              \"pressure_level_1\"     :{\"q\"   :{\"L\": np.arange(0,44+1,1)     ,\"P2\":levels}},\n",
    "                                              \"pressure_level_2\"     :{\n",
    "                                                                       \"t\"   :{\"L\": np.arange(0,44+1,1)     ,\"P\":levels}\n",
    "                                                                       },\n",
    "                                              \"pressure_level_wind\"  :{\"u\"   :{\"L\": np.arange(0,44+1,1)     ,\"P\":levels},\n",
    "                                                                       \"v\"   :{\"L\": np.arange(0,44+1,1)     ,\"P\":levels}\n",
    "                                                                       },   \n",
    "                                              \"sfc_rad_flux\"         :{\"ssrd\":{\"L1\": np.arange(1,44+1,1)},\n",
    "                                                                       \"strd\":{\"L1\": np.arange(1,44+1,1)}}                                                         \n",
    "                                              }\n",
    "                                },\n",
    "                 }\n",
    "         }"
   ]
  },
  {
   "cell_type": "code",
   "execution_count": 5,
   "id": "b62dfdc0",
   "metadata": {},
   "outputs": [],
   "source": [
    "Descript_dataset = {\"Insta_dataset\"    : [\"pressure_level_1\", \"pressure_level_2\",\"pressure_level_wind\",\"sfc_rad_flux\",\"10m_above_ground\"],\n",
    "                    \"Mean_dataset\"     : [\"2m_above_ground\", \"sfc_temperature\"]}"
   ]
  },
  {
   "cell_type": "code",
   "execution_count": 6,
   "id": "67b41568",
   "metadata": {},
   "outputs": [],
   "source": [
    "INPUT_DATA  = \"/home/brayan/DATA/S2S/raw_data/\" #\"/media/brayan/TOSHIBA_EXT/DATA/RAW_DATA/S2S/\"\n",
    "OUTPUT_DIR  = \"/home/brayan/DATA/MODEL-FORECAST/NCEP/\"\n",
    "dataset     = \"pressure_level_1\"\n",
    "resolucion_scale = 2  # 1-->normal (1.5x1.5), 2--> 200% (3x3), 4 --> 400% (6x6) "
   ]
  },
  {
   "cell_type": "code",
   "execution_count": null,
   "id": "dc076d16",
   "metadata": {},
   "outputs": [
    {
     "name": "stdout",
     "output_type": "stream",
     "text": [
      "LA SALIDA CONCUERDA CON EL MODELO DESCARGADO\n",
      "COmienza denuevo\n",
      "Create weight file: bilinear_41x240_20x120.nc\n",
      "Remove file bilinear_41x240_20x120.nc\n",
      "vemos: 1 200\n",
      "COmienza denuevo\n",
      "Create weight file: bilinear_41x240_20x120.nc\n",
      "Remove file bilinear_41x240_20x120.nc\n",
      "vemos: 1 850\n",
      "COmienza denuevo\n",
      "Create weight file: bilinear_41x240_20x120.nc\n",
      "Remove file bilinear_41x240_20x120.nc\n",
      "vemos: 2 200\n",
      "COmienza denuevo\n",
      "Create weight file: bilinear_41x240_20x120.nc\n",
      "Remove file bilinear_41x240_20x120.nc\n",
      "vemos: 2 850\n",
      "COmienza denuevo\n",
      "Create weight file: bilinear_41x240_20x120.nc\n",
      "Remove file bilinear_41x240_20x120.nc\n",
      "vemos: 3 200\n",
      "COmienza denuevo\n",
      "Create weight file: bilinear_41x240_20x120.nc\n",
      "Remove file bilinear_41x240_20x120.nc\n",
      "vemos: 3 850\n",
      "COmienza denuevo\n",
      "Create weight file: bilinear_41x240_20x120.nc\n",
      "Remove file bilinear_41x240_20x120.nc\n",
      "vemos: 4 200\n",
      "COmienza denuevo\n",
      "Create weight file: bilinear_41x240_20x120.nc\n",
      "Remove file bilinear_41x240_20x120.nc\n",
      "vemos: 4 850\n",
      "COmienza denuevo\n",
      "Create weight file: bilinear_41x240_20x120.nc\n",
      "Remove file bilinear_41x240_20x120.nc\n",
      "vemos: 5 200\n",
      "COmienza denuevo\n",
      "Create weight file: bilinear_41x240_20x120.nc\n",
      "Remove file bilinear_41x240_20x120.nc\n",
      "vemos: 5 850\n",
      "COmienza denuevo\n",
      "Create weight file: bilinear_41x240_20x120.nc\n",
      "Remove file bilinear_41x240_20x120.nc\n",
      "vemos: 6 200\n",
      "COmienza denuevo\n",
      "Create weight file: bilinear_41x240_20x120.nc\n",
      "Remove file bilinear_41x240_20x120.nc\n",
      "vemos: 6 850\n",
      "COmienza denuevo\n"
     ]
    }
   ],
   "source": [
    "for model_name, v_1 in MODELS.items():\n",
    "    if model_name in OUTPUT_DIR:\n",
    "        print(\"LA SALIDA CONCUERDA CON EL MODELO DESCARGADO\")\n",
    "    else:\n",
    "        break\n",
    "    for type_sim, v_2 in v_1.items():\n",
    "        for type_ini, v_3 in v_2.items():\n",
    "            for var_cat, v_4 in v_3.items():\n",
    "                if var_cat != dataset:                  \n",
    "                    continue\n",
    "                dic_inf = {}\n",
    "                for sc, vs  in zip(list(v_4.keys()),list(v_4.values())): \n",
    "                    dic_inf[sc] = vs\n",
    "                if dataset in Descript_dataset[\"Insta_dataset\"]:  # Si el dataset tiene registros instantaneos diarios (generalmente 0000)\n",
    "                    if type_ini == \"control\":\n",
    "                        v_5 = dic_inf[list(dic_inf.keys())[0]]  #Se asume que ambas suvbcategorias tienen el mismo grillado L\n",
    "                        des = list(v_5.keys())   \n",
    "                        for en_1, cnt_1 in enumerate(v_5[des[0]][:-1]):\n",
    "                            if cnt_1 == 0: #Para omitir el dia cero de inicializacion\n",
    "                                continue\n",
    "                            if 2 == len(des):  # Si existen dos niveles\n",
    "                                for cnt_2,levels in enumerate(v_5[des[1]]):\n",
    "                                    if len(list(dic_inf.keys())) == 1:\n",
    "                                        print(\"COmienza denuevo\")\n",
    "                                        MODEL_DATA_X_pre  = INPUT_DATA + f\"{model_name}/{type_sim}/{type_ini}/{var_cat}.{list(v_4.keys())[0]}/{dataset}_{list(v_4.keys())[0]}_{des[0]}{str(cnt_1)}_{des[1]}{str(cnt_2)}.nc\"\n",
    "                                        MODEL_DATA_X_post = INPUT_DATA + f\"{model_name}/{type_sim}/{type_ini}/{var_cat}.{list(v_4.keys())[0]}/{dataset}_{list(v_4.keys())[0]}_{des[0]}{str(cnt_1+1)}_{des[1]}{str(cnt_2)}.nc\"                                    \n",
    "                                        \n",
    "                                        # Leemos la data y seleccionamos la region intertropical\n",
    "                                        DATAX_0 = xr.open_dataset(MODEL_DATA_X_pre).sel(Y=slice(30,-30))\n",
    "                                        DATAX_1 = xr.open_dataset(MODEL_DATA_X_post).sel(Y=slice(30,-30))\n",
    "                                        \n",
    "                                        # Convertimos a float 32 numpy array\n",
    "                                        TX_0 = np.float32(getattr(DATAX_0, list((dic_inf.keys()))[0]).values)\n",
    "                                        TX_1 = np.float32(getattr(DATAX_1, list((dic_inf.keys()))[0]).values)                                        \n",
    "                                        \n",
    "                                        # Hacer el calculo para el promedio diario\n",
    "                                        TX_array  =  xr.DataArray((TX_0.squeeze().reshape((TX_0.shape[0],1,TX_0.shape[-2],TX_0.shape[-1]))[:,:,::-1,:] + TX_1.squeeze().reshape((TX_0.shape[0],1,TX_0.shape[-2],TX_0.shape[-1]))[:,:,::-1,:])/2,  ###La inversion en lat se hace porque la latitud esta en orden descendente\n",
    "                                                                  coords=[DATAX_0.S, np.array([cnt_1+0.5]) , DATAX_0.Y.values[::-1], DATAX_0.X],\n",
    "                                                                  dims=[\"time\",\"lead\",\"lat\",\"lon\"])  \n",
    "                                        # Liberar espacio de memoria\n",
    "                                        DATAX_0.close()\n",
    "                                        DATAX_1.close()\n",
    "                                        del TX_0\n",
    "                                        del TX_1 \n",
    "                                        gc.collect()     \n",
    "\n",
    "                                        # Se hace una interpolacion en el tiempo para algunos datos faltantes (generalmente en la dimension tiempo)\n",
    "                                        TX_array_fill = TX_array.interpolate_na(dim=\"time\", method=\"cubic\", fill_value=\"extrapolate\")                                        \n",
    "                                        # Liberar espacio de memoria\n",
    "                                        TX_array.close()\n",
    "                                        gc.collect()                                        \n",
    "                                        \n",
    "                                        # Regrillado del dataset (bajar resolucion)\n",
    "                                        if resolucion_scale > 1:\n",
    "                                            ds_RES         = xr.Dataset(\n",
    "                                                                        {'lon':(['lon'], np.arange(TX_array_fill.lon.values[0],TX_array_fill.lon.values[-1], 1.5*resolucion_scale)),  \n",
    "                                                                         'lat':(['lat'], np.arange(TX_array_fill.lat.values[0],TX_array_fill.lat.values[-1], 1.5*resolucion_scale))}  ## 1.5 es el anchod e grilla original\n",
    "                                                                        )\n",
    "                                            regridder      = xe.Regridder(TX_array_fill, ds_RES, \"bilinear\") \n",
    "                                            regridder.clean_weight_file() \n",
    "                                            TX_res         = regridder(TX_array_fill).values    \n",
    "                                            TX_array_RES   =  xr.DataArray(np.float32(TX_res),\n",
    "                                                                           coords=[TX_array_fill.time, np.array([cnt_1+0.5]) , ds_RES.lat, ds_RES.lon],\n",
    "                                                                           dims=[\"time\",\"lead\",\"lat\",\"lon\"])\n",
    "\n",
    "                                            # Liberar espacio de memoria\n",
    "                                            TX_array_fill.close()\n",
    "                                            del TX_res\n",
    "                                            gc.collect()    \n",
    "                                        else:\n",
    "                                            TX_array_RES = TX_array_fill\n",
    "                                        \n",
    "                                        # Calculo de Anomalias y Climatologias\n",
    "                                        TX_anom_RES, TX_Clim_RES = anom_clim( TX_array_RES, cnt_1)\n",
    "                                        TX_array_RES.close()\n",
    "                                        gc.collect()  \n",
    "                                        \n",
    "                                        # Extraemos la media y escalamos respecto a la desviacion estandar, si es una variable oceanica entonces devuelve cero\n",
    "                                        TX_anom_std   = ((TX_anom_RES-TX_anom_RES.mean(\"time\"))/TX_anom_RES.std(\"time\")).fillna(0)  #Por ahora aplicaremos la normalizacion estandar, pero debemos analizar otras opciones  #https://empresas.blogthinkbig.com/precauciones-la-hora-de-normalizar/\n",
    "                                        \n",
    "                                        # Convertimos a Dataset\n",
    "                                        ANOM_X        = xr.Dataset({\"a_\"+list((dic_inf.keys()))[0]: TX_anom_std})\n",
    "                                        CLIM_X        = xr.Dataset({\"clim_\"+list((dic_inf.keys()))[0]: TX_Clim_RES, \"mean\": TX_anom_RES.mean(\"time\"), \"std\": TX_anom_RES.std(\"time\")})                                           \n",
    "\n",
    "                                        # Creamos las carpetas de las variables\n",
    "                                        check_dir(OUTPUT_DIR+type_sim+\"/\"+var_cat+\".\"+list((dic_inf.keys()))[0]+\".\"+str(levels)+\"/CLIMATOLOGIA/\")\n",
    "                                        check_dir(OUTPUT_DIR+type_sim+\"/\"+var_cat+\".\"+list((dic_inf.keys()))[0]+\".\"+str(levels)+\"/ANOMALIAS/\")                                        \n",
    "                                        \n",
    "                                        # Guardamos la data\n",
    "                                        if cnt_1 == 1:\n",
    "                                            CLIM_X.to_zarr(OUTPUT_DIR+type_sim+\"/\"+var_cat+\".\"+list((dic_inf.keys()))[0]+\".\"+str(levels)+\"/CLIMATOLOGIA/\"+f\"Climatologia_{str(ANOM_X.time.values[0])[:4]}_{str(ANOM_X.time.values[-1])[:4]}_x\"+str(resolucion_scale)+\".zarr\",\n",
    "                                                           mode=\"w\", consolidated=True)\n",
    "                                            ANOM_X.to_zarr(OUTPUT_DIR+type_sim+\"/\"+var_cat+\".\"+list((dic_inf.keys()))[0]+\".\"+str(levels)+\"/ANOMALIAS/\"+f\"Anomalias_{str(ANOM_X.time.values[0])[:4]}_{str(ANOM_X.time.values[-1])[:4]}_x\"+str(resolucion_scale)+\".zarr\",\n",
    "                                                           mode=\"w\", consolidated=True)   \n",
    "                                        else:\n",
    "                                            CLIM_X.to_zarr(OUTPUT_DIR+type_sim+\"/\"+var_cat+\".\"+list((dic_inf.keys()))[0]+\".\"+str(levels)+\"/CLIMATOLOGIA/\"+f\"Climatologia_{str(ANOM_X.time.values[0])[:4]}_{str(ANOM_X.time.values[-1])[:4]}_x\"+str(resolucion_scale)+\".zarr\",\n",
    "                                                           mode=\"a\", consolidated=True, append_dim=\"lead\")\n",
    "                                            ANOM_X.to_zarr(OUTPUT_DIR+type_sim+\"/\"+var_cat+\".\"+list((dic_inf.keys()))[0]+\".\"+str(levels)+\"/ANOMALIAS/\"+f\"Anomalias_{str(ANOM_X.time.values[0])[:4]}_{str(ANOM_X.time.values[-1])[:4]}_x\"+str(resolucion_scale)+\".zarr\",\n",
    "                                                           mode=\"a\", consolidated=True, append_dim=\"lead\")                                               \n",
    "                                        ANOM_X.close()\n",
    "                                        CLIM_X.close()\n",
    "                                        gc.collect()\n",
    "                                        print(\"vemos: \" + str(cnt_1), levels) \n",
    "                                        \n",
    "                                        \n",
    "\n",
    "                                    elif len(list(dic_inf.keys())) == 2:  # Si existen dos variables\n",
    "                                        MODEL_DATA_X_pre  = INPUT_DATA + f\"{model_name}/{type_sim}/{type_ini}/{var_cat}.{list(v_4.keys())[0]}/{dataset}_{list(v_4.keys())[0]}_{des[0]}{str(cnt_1)}_{des[1]}{str(cnt_2)}.nc\"\n",
    "                                        MODEL_DATA_Y_pre  = INPUT_DATA + f\"{model_name}/{type_sim}/{type_ini}/{var_cat}.{list(v_4.keys())[1]}/{dataset}_{list(v_4.keys())[1]}_{des[0]}{str(cnt_1)}_{des[1]}{str(cnt_2)}.nc\"\n",
    "                                        MODEL_DATA_X_post = INPUT_DATA + f\"{model_name}/{type_sim}/{type_ini}/{var_cat}.{list(v_4.keys())[0]}/{dataset}_{list(v_4.keys())[0]}_{des[0]}{str(cnt_1+1)}_{des[1]}{str(cnt_2)}.nc\"\n",
    "                                        MODEL_DATA_Y_post = INPUT_DATA + f\"{model_name}/{type_sim}/{type_ini}/{var_cat}.{list(v_4.keys())[1]}/{dataset}_{list(v_4.keys())[1]}_{des[0]}{str(cnt_1+1)}_{des[1]}{str(cnt_2)}.nc\"                                                                \n",
    "\n",
    "#                                         print(MODEL_DATA_X_pre)\n",
    "#                                         print(MODEL_DATA_X_post)\n",
    "#                                         print(MODEL_DATA_Y_pre)\n",
    "#                                         print(MODEL_DATA_Y_post)                                    \n",
    "                                        print(\"A2\")\n",
    "                            else:\n",
    "                                if len(list(dic_inf.keys())) == 1:  #Si existe solo una sola variable\n",
    "                                    MODEL_DATA_X_pre   = INPUT_DATA + f\"{model_name}/{type_sim}/{type_ini}/{var_cat}.{list(v_4.keys())[0]}/{dataset}_{list(v_4.keys())[0]}_{des[0]}{str(cnt_1)}.nc\"\n",
    "                                    MODEL_DATA_X_post  = INPUT_DATA + f\"{model_name}/{type_sim}/{type_ini}/{var_cat}.{list(v_4.keys())[0]}/{dataset}_{list(v_4.keys())[0]}_{des[0]}{str(cnt_1+1)}.nc\"\n",
    "#                                     print(MODEL_DATA_X_pre)\n",
    "#                                     print(MODEL_DATA_X_post)\n",
    "                                    print(\"B1\")      \n",
    "\n",
    "                                elif len(list(dic_inf.keys())) == 2:\n",
    "                                    MODEL_DATA_X_pre  = INPUT_DATA + f\"{model_name}/{type_sim}/{type_ini}/{var_cat}.{list(v_4.keys())[0]}/{dataset}_{list(v_4.keys())[0]}_{des[0]}{str(cnt_1)}.nc\"\n",
    "                                    MODEL_DATA_Y_pre  = INPUT_DATA + f\"{model_name}/{type_sim}/{type_ini}/{var_cat}.{list(v_4.keys())[1]}/{dataset}_{list(v_4.keys())[1]}_{des[0]}{str(cnt_1)}.nc\"\n",
    "                                    MODEL_DATA_X_post = INPUT_DATA + f\"{model_name}/{type_sim}/{type_ini}/{var_cat}.{list(v_4.keys())[0]}/{dataset}_{list(v_4.keys())[0]}_{des[0]}{str(cnt_1+1)}.nc\"\n",
    "                                    MODEL_DATA_Y_post = INPUT_DATA + f\"{model_name}/{type_sim}/{type_ini}/{var_cat}.{list(v_4.keys())[1]}/{dataset}_{list(v_4.keys())[1]}_{des[0]}{str(cnt_1+1)}.nc\"\n",
    "#                                     print(MODEL_DATA_X_pre)\n",
    "#                                     print(MODEL_DATA_X_post)\n",
    "#                                     print(MODEL_DATA_Y_pre)\n",
    "#                                     print(MODEL_DATA_Y_post)                                    \n",
    "                                    print(\"B2\")         \n",
    "\n",
    "\n",
    "\n"
   ]
  },
  {
   "cell_type": "code",
   "execution_count": null,
   "id": "b66ea311",
   "metadata": {},
   "outputs": [],
   "source": []
  },
  {
   "cell_type": "code",
   "execution_count": null,
   "id": "34ed4213",
   "metadata": {},
   "outputs": [],
   "source": []
  },
  {
   "cell_type": "code",
   "execution_count": null,
   "id": "10ed9953",
   "metadata": {},
   "outputs": [],
   "source": []
  },
  {
   "cell_type": "code",
   "execution_count": null,
   "id": "3d5d17e9",
   "metadata": {},
   "outputs": [],
   "source": []
  },
  {
   "cell_type": "code",
   "execution_count": null,
   "id": "c388fc5e",
   "metadata": {},
   "outputs": [],
   "source": []
  },
  {
   "cell_type": "code",
   "execution_count": null,
   "id": "a6793ec1",
   "metadata": {},
   "outputs": [],
   "source": []
  },
  {
   "cell_type": "code",
   "execution_count": null,
   "id": "b49602e8",
   "metadata": {},
   "outputs": [],
   "source": []
  },
  {
   "cell_type": "code",
   "execution_count": 9,
   "id": "949eb684",
   "metadata": {},
   "outputs": [],
   "source": [
    "cnt_1 = 1"
   ]
  },
  {
   "cell_type": "code",
   "execution_count": 10,
   "id": "35df1978",
   "metadata": {},
   "outputs": [],
   "source": [
    "cnt_2 = 0"
   ]
  },
  {
   "cell_type": "code",
   "execution_count": 11,
   "id": "9108f1fd",
   "metadata": {},
   "outputs": [],
   "source": [
    "resolucion_scale = 2  # 1-->normal (1.5x1.5), 2--> 200% (3x3), 4 --> 400% (6x6) "
   ]
  },
  {
   "cell_type": "code",
   "execution_count": 12,
   "id": "c97ae46a",
   "metadata": {},
   "outputs": [],
   "source": [
    "MODEL_DATA_X_pre  = \"/home/brayan/DATA/S2S/raw_data/NCEP/reforecast/control/pressure_level_1.q/pressure_level_1_q_L1_P20.nc\"\n",
    "MODEL_DATA_X_post = \"/home/brayan/DATA/S2S/raw_data/NCEP/reforecast/control/pressure_level_1.q/pressure_level_1_q_L2_P20.nc\""
   ]
  },
  {
   "cell_type": "code",
   "execution_count": 13,
   "id": "9cb4135c",
   "metadata": {},
   "outputs": [],
   "source": [
    "DATAX_0 = xr.open_dataset(MODEL_DATA_X_pre).sel(Y=slice(30,-30))\n",
    "DATAX_1 = xr.open_dataset(MODEL_DATA_X_post).sel(Y=slice(30,-30))"
   ]
  },
  {
   "cell_type": "markdown",
   "id": "dba5d81d",
   "metadata": {},
   "source": [
    "# Convertir a esfuerzo de vientos  # SOlo cuando hay cuatros variables para activar\n",
    "if dataset == \"10m_above_ground\":\n",
    "    TX_0, TY_0 = wind_to_stress( getattr(DATAX_0,\"10u\"), getattr(DATAY_0,\"10v\"))\n",
    "    TX_1, TY_1 = wind_to_stress( getattr(DATAX_1,\"10u\"), getattr(DATAY_1,\"10v\"))    \n",
    "else:\n",
    "    TX_0 = getattr(DATAX_0, list((dic_inf.keys()))[0]).values\n",
    "    TX_1 = getattr(DATAX_1, list((dic_inf.keys()))[0]).values\n",
    "    TY_0 = getattr(DATAY_0, list((dic_inf.keys()))[0]).values\n",
    "    TY_1 = getattr(DATAY_1, list((dic_inf.keys()))[0]).values"
   ]
  },
  {
   "cell_type": "code",
   "execution_count": 14,
   "id": "820b6907",
   "metadata": {},
   "outputs": [],
   "source": [
    "TX_0 = np.float32(getattr(DATAX_0, list((dic_inf.keys()))[0]).values)\n",
    "TX_1 = np.float32(getattr(DATAX_1, list((dic_inf.keys()))[0]).values)"
   ]
  },
  {
   "cell_type": "code",
   "execution_count": 15,
   "id": "07423645",
   "metadata": {},
   "outputs": [],
   "source": [
    "# Hacer el calculo para el promedio diario\n",
    "TX_array                      =  xr.DataArray((TX_0.squeeze().reshape((TX_0.shape[0],1,TX_0.shape[-2],TX_0.shape[-1]))[:,:,::-1,:] + TX_1.squeeze().reshape((TX_0.shape[0],1,TX_0.shape[-2],TX_0.shape[-1]))[:,:,::-1,:])/2,  ###La inversion en lat se hace porque la latitud esta en orden descendente\n",
    "                                              coords=[DATAX_0.S, np.array([cnt_1+0.5]) , DATAX_0.Y.values[::-1], DATAX_0.X],\n",
    "                                              dims=[\"time\",\"lead\",\"lat\",\"lon\"])  "
   ]
  },
  {
   "cell_type": "code",
   "execution_count": 16,
   "id": "03ebf17e",
   "metadata": {},
   "outputs": [
    {
     "data": {
      "text/plain": [
       "102"
      ]
     },
     "execution_count": 16,
     "metadata": {},
     "output_type": "execute_result"
    }
   ],
   "source": [
    "# Liberar espacio de memoria\n",
    "DATAX_0.close()\n",
    "DATAX_1.close()\n",
    "del TX_0\n",
    "del TX_1 \n",
    "gc.collect()"
   ]
  },
  {
   "cell_type": "code",
   "execution_count": 120,
   "id": "f6b05424",
   "metadata": {},
   "outputs": [],
   "source": [
    "# Se hace una interpolacion en el tiempo para algunos datos faltantes (generalmente en la dimension tiempo)\n",
    "# dates_ = pd.date_range(str(TX_array.time.values[0])[:10],str(TX_array.time.values[-1])[:10], freq=\"D\")"
   ]
  },
  {
   "cell_type": "code",
   "execution_count": 17,
   "id": "307526d6",
   "metadata": {},
   "outputs": [],
   "source": [
    "# Se hace una interpolacion en el tiempo para algunos datos faltantes (generalmente en la dimension tiempo)\n",
    "TX_array_fill = TX_array.interpolate_na(dim=\"time\", method=\"cubic\", fill_value=\"extrapolate\")"
   ]
  },
  {
   "cell_type": "code",
   "execution_count": 18,
   "id": "a6b46d20",
   "metadata": {},
   "outputs": [
    {
     "data": {
      "text/plain": [
       "22"
      ]
     },
     "execution_count": 18,
     "metadata": {},
     "output_type": "execute_result"
    }
   ],
   "source": [
    "TX_array.close()\n",
    "gc.collect()"
   ]
  },
  {
   "cell_type": "code",
   "execution_count": 19,
   "id": "34ab6cbc",
   "metadata": {},
   "outputs": [
    {
     "name": "stdout",
     "output_type": "stream",
     "text": [
      "Create weight file: bilinear_41x240_20x120.nc\n",
      "Remove file bilinear_41x240_20x120.nc\n"
     ]
    }
   ],
   "source": [
    "# Regrillado del dataset (bajar resolucion)\n",
    "if resolucion_scale > 1:\n",
    "    ds_RES         = xr.Dataset(\n",
    "                                {'lon':(['lon'], np.arange(TX_array_fill.lon.values[0],TX_array_fill.lon.values[-1], 1.5*resolucion_scale)),  \n",
    "                                 'lat':(['lat'], np.arange(TX_array_fill.lat.values[0],TX_array_fill.lat.values[-1], 1.5*resolucion_scale))}  ## 1.5 es el anchod e grilla original\n",
    "                                )\n",
    "    regridder      = xe.Regridder(TX_array_fill, ds_RES, \"bilinear\") \n",
    "    regridder.clean_weight_file() \n",
    "    TX_res         = regridder(TX_array_fill).values    \n",
    "    TX_array_RES   =  xr.DataArray(np.float32(TX_res),\n",
    "                                   coords=[TX_array_fill.time, np.array([cnt_1+0.5]) , ds_RES.lat, ds_RES.lon],\n",
    "                                   dims=[\"time\",\"lead\",\"lat\",\"lon\"])\n",
    "\n",
    "    # Liberar espacio de memoria\n",
    "    TX_array_fill.close()\n",
    "    del TX_res\n",
    "    gc.collect()    \n",
    "else:\n",
    "    TX_array_RES = TX_array_fill"
   ]
  },
  {
   "cell_type": "code",
   "execution_count": 27,
   "id": "1d3c0edc",
   "metadata": {},
   "outputs": [],
   "source": [
    "# Calculo de Anomalias y Climatologias\n",
    "TX_anom_RES, TX_Clim_RES = anom_clim( TX_array_RES, cnt_1)\n",
    "# TX_array_MOM             = TX_anom_RES.chunk(chunks={'time': 1})                        "
   ]
  },
  {
   "cell_type": "code",
   "execution_count": 37,
   "id": "acb64929",
   "metadata": {},
   "outputs": [
    {
     "data": {
      "text/plain": [
       "747"
      ]
     },
     "execution_count": 37,
     "metadata": {},
     "output_type": "execute_result"
    }
   ],
   "source": [
    "TX_array_RES.close()\n",
    "gc.collect()  "
   ]
  },
  {
   "cell_type": "code",
   "execution_count": 38,
   "id": "c9470aae",
   "metadata": {},
   "outputs": [],
   "source": [
    "# Extraemos la media y escalamos respecto a la desviacion estandar, si es una variable oceanica entonces devuelve cero\n",
    "TX_anom_std   = ((TX_anom_RES-TX_anom_RES.mean(\"time\"))/TX_anom_RES.std(\"time\")).fillna(0)  #Por ahora aplicaremos la normalizacion estandar, pero debemos analizar otras opciones  #https://empresas.blogthinkbig.com/precauciones-la-hora-de-normalizar/"
   ]
  },
  {
   "cell_type": "code",
   "execution_count": 41,
   "id": "da78467b",
   "metadata": {},
   "outputs": [],
   "source": [
    "ANOM_X                   = xr.Dataset({\"a_\"+list((dic_inf.keys()))[0]: TX_anom_std})\n",
    "CLIM_X                   = xr.Dataset({\"clim_\"+list((dic_inf.keys()))[0]: TX_Clim_RES, \"mean\": TX_anom_RES.mean(\"time\"), \"std\": TX_anom_RES.std(\"time\")})   "
   ]
  },
  {
   "cell_type": "code",
   "execution_count": 59,
   "id": "c8c84b5f",
   "metadata": {},
   "outputs": [],
   "source": [
    "# Registro de datos\n",
    "check_dir(OUTPUT_DIR+type_sim+\"/\"+var_cat+\".\"+list((dic_inf.keys()))[0]+str(levels)+\"/CLIMATOLOGIA/\")\n",
    "check_dir(OUTPUT_DIR+type_sim+\"/\"+var_cat+\".\"+list((dic_inf.keys()))[0]+str(levels)+\"/ANOMALIAS/\")"
   ]
  },
  {
   "cell_type": "code",
   "execution_count": 62,
   "id": "9e777331",
   "metadata": {},
   "outputs": [],
   "source": [
    "if cnt_1 == 1:\n",
    "    CLIM_X.to_zarr(OUTPUT_DIR+type_sim+\"/\"+var_cat+\".\"+list((dic_inf.keys()))[0]+\"/CLIMATOLOGIA/\"+f\"Climatologia_{str(ANOM_X.time.values[0])[:4]}_{str(ANOM_X.time.values[-1])[:4]}_x\"+str(resolucion_scale)+\".zarr\",\n",
    "                   mode=\"w\", consolidated=True)\n",
    "    ANOM_X.to_zarr(OUTPUT_DIR+type_sim+\"/\"+var_cat+\".\"+list((dic_inf.keys()))[0]+\"/ANOMALIAS/\"+f\"Anomalias_{str(ANOM_X.time.values[0])[:4]}_{str(ANOM_X.time.values[-1])[:4]}_x\"+str(resolucion_scale)+\".zarr\",\n",
    "                   mode=\"w\", consolidated=True)   \n",
    "else:\n",
    "    CLIM_X.to_zarr(OUTPUT_DIR+type_sim+\"/\"+var_cat+\".\"+list((dic_inf.keys()))[0]+\"/CLIMATOLOGIA/\"+f\"Climatologia_{str(ANOM_X.time.values[0])[:4]}_{str(ANOM_X.time.values[-1])[:4]}_x\"+str(resolucion_scale)+\".zarr\",\n",
    "                   mode=\"w\", consolidated=True, append_dim=\"lead\")\n",
    "    ANOM_X.to_zarr(OUTPUT_DIR+type_sim+\"/\"+var_cat+\".\"+list((dic_inf.keys()))[0]+\"/ANOMALIAS/\"+f\"Anomalias_{str(ANOM_X.time.values[0])[:4]}_{str(ANOM_X.time.values[-1])[:4]}_x\"+str(resolucion_scale)+\".zarr\",\n",
    "                   mode=\"w\", consolidated=True, append_dim=\"lead\")       "
   ]
  },
  {
   "cell_type": "code",
   "execution_count": null,
   "id": "d8446c01",
   "metadata": {},
   "outputs": [],
   "source": [
    "ANOM_X.close()\n",
    "CLIM_X.close()\n",
    "gc.collect()"
   ]
  },
  {
   "cell_type": "code",
   "execution_count": 11,
   "id": "72272728",
   "metadata": {},
   "outputs": [
    {
     "data": {
      "text/plain": [
       "'q'"
      ]
     },
     "execution_count": 11,
     "metadata": {},
     "output_type": "execute_result"
    }
   ],
   "source": [
    "list((dic_inf.keys()))[0]"
   ]
  },
  {
   "cell_type": "code",
   "execution_count": 12,
   "id": "a0f224e7",
   "metadata": {},
   "outputs": [
    {
     "data": {
      "text/plain": [
       "850"
      ]
     },
     "execution_count": 12,
     "metadata": {},
     "output_type": "execute_result"
    }
   ],
   "source": [
    "levels"
   ]
  },
  {
   "cell_type": "code",
   "execution_count": null,
   "id": "6bafe3a0",
   "metadata": {},
   "outputs": [],
   "source": []
  },
  {
   "cell_type": "code",
   "execution_count": null,
   "id": "ea3762c6",
   "metadata": {},
   "outputs": [],
   "source": []
  },
  {
   "cell_type": "code",
   "execution_count": null,
   "id": "5bd288bb",
   "metadata": {},
   "outputs": [],
   "source": []
  },
  {
   "cell_type": "code",
   "execution_count": null,
   "id": "8c8a5a51",
   "metadata": {},
   "outputs": [],
   "source": []
  },
  {
   "cell_type": "code",
   "execution_count": null,
   "id": "b4a35a1e",
   "metadata": {},
   "outputs": [],
   "source": []
  },
  {
   "cell_type": "code",
   "execution_count": 1,
   "id": "ef2380ef",
   "metadata": {},
   "outputs": [
    {
     "data": {
      "text/plain": [
       "1"
      ]
     },
     "execution_count": 1,
     "metadata": {},
     "output_type": "execute_result"
    }
   ],
   "source": [
    "1"
   ]
  },
  {
   "cell_type": "code",
   "execution_count": 40,
   "id": "75c4e91e",
   "metadata": {},
   "outputs": [
    {
     "data": {
      "text/plain": [
       "<matplotlib.collections.QuadMesh at 0x7f9e3202a9d0>"
      ]
     },
     "execution_count": 40,
     "metadata": {},
     "output_type": "execute_result"
    },
    {
     "data": {
      "image/png": "[encoded data removed]",
      "text/plain": [
       "<Figure size 432x288 with 2 Axes>"
      ]
     },
     "metadata": {
      "needs_background": "light"
     },
     "output_type": "display_data"
    }
   ],
   "source": [
    "TX_anom_std.isel(time=10).plot()"
   ]
  },
  {
   "cell_type": "code",
   "execution_count": 34,
   "id": "385d7c07",
   "metadata": {},
   "outputs": [
    {
     "data": {
      "text/plain": [
       "<matplotlib.collections.QuadMesh at 0x7f9e3262b190>"
      ]
     },
     "execution_count": 34,
     "metadata": {},
     "output_type": "execute_result"
    },
    {
     "data": {
      "image/png": "[encoded data removed]",
      "text/plain": [
       "<Figure size 432x288 with 2 Axes>"
      ]
     },
     "metadata": {
      "needs_background": "light"
     },
     "output_type": "display_data"
    }
   ],
   "source": [
    "TX_anom_RES.isel(time=10).plot()"
   ]
  },
  {
   "cell_type": "code",
   "execution_count": null,
   "id": "b08ed002",
   "metadata": {},
   "outputs": [],
   "source": []
  },
  {
   "cell_type": "code",
   "execution_count": 145,
   "id": "2c897cc2",
   "metadata": {},
   "outputs": [
    {
     "data": {
      "text/plain": [
       "1"
      ]
     },
     "execution_count": 145,
     "metadata": {},
     "output_type": "execute_result"
    }
   ],
   "source": [
    "cnt_1"
   ]
  },
  {
   "cell_type": "code",
   "execution_count": 124,
   "id": "b1426d93",
   "metadata": {},
   "outputs": [
    {
     "name": "stdout",
     "output_type": "stream",
     "text": [
      "El dataset esta limpio\n"
     ]
    }
   ],
   "source": [
    "# Si la variable es oceanica, entonces se rellena los nans con ceros\n",
    "if np.count_nonzero(np.isnan(TX_array_fill.isel(time=np.random.randint(0, high = TX_array_fill.shape[0])))) > 0: \n",
    "    TX_array_fill = TX_array_fill.fillna(0)\n",
    "    print(\"Variable oceanica ejecutandose\")\n",
    "    \n",
    "#Message\n",
    "if np.count_nonzero(np.isnan(TX_array_fill)) == 0:\n",
    "    print(\"El dataset esta limpio\")\n",
    "else: \n",
    "    print(\"TOdavia existen NANs\")"
   ]
  },
  {
   "cell_type": "code",
   "execution_count": null,
   "id": "5fefc582",
   "metadata": {},
   "outputs": [],
   "source": []
  },
  {
   "cell_type": "code",
   "execution_count": null,
   "id": "99acc995",
   "metadata": {},
   "outputs": [],
   "source": []
  },
  {
   "cell_type": "code",
   "execution_count": null,
   "id": "1af059ee",
   "metadata": {},
   "outputs": [],
   "source": []
  },
  {
   "cell_type": "code",
   "execution_count": null,
   "id": "96f30650",
   "metadata": {},
   "outputs": [],
   "source": []
  },
  {
   "cell_type": "code",
   "execution_count": null,
   "id": "7955612f",
   "metadata": {},
   "outputs": [],
   "source": []
  },
  {
   "cell_type": "code",
   "execution_count": null,
   "id": "0a6e4249",
   "metadata": {},
   "outputs": [],
   "source": []
  },
  {
   "cell_type": "code",
   "execution_count": null,
   "id": "f6941cf8",
   "metadata": {},
   "outputs": [],
   "source": [
    "    for type_sim, v_2 in v_1.items():\n",
    "        for type_ini, v_3 in v_2.items():\n",
    "            for var_cat, v_4 in v_3.items():\n",
    "                dic_inf = {}\n",
    "                for sc, vs  in zip(list(v_4.keys()),list(v_4.values())): \n",
    "                    dic_inf[sc] = vs\n",
    "                    \n",
    "                if type_ini == \"control\":\n",
    "                    v_5 = dic_inf[\"10u\"]  #Se asume que ambas suvbcategorias tienen el mismo grillado L\n",
    "                    des = list(v_5.keys())\n",
    "                    for cnt_1 in range(v_5[des[0]].shape[0]-1):\n",
    "                        MODEL_DATA_X_pre   = INPUT_DATA + f\"{model_name}/{type_sim}/{type_ini}/{var_cat}.{list(v_4.keys())[0]}/{dataset}_{list(v_4.keys())[0]}_{des[0]}{str(cnt_1)}.nc\"\n",
    "                        MODEL_DATA_Y_pre   = INPUT_DATA + f\"{model_name}/{type_sim}/{type_ini}/{var_cat}.{list(v_4.keys())[1]}/{dataset}_{list(v_4.keys())[1]}_{des[0]}{str(cnt_1)}.nc\"\n",
    "                        MODEL_DATA_X_post  = INPUT_DATA + f\"{model_name}/{type_sim}/{type_ini}/{var_cat}.{list(v_4.keys())[0]}/{dataset}_{list(v_4.keys())[0]}_{des[0]}{str(cnt_1+1)}.nc\"\n",
    "                        MODEL_DATA_Y_post  = INPUT_DATA + f\"{model_name}/{type_sim}/{type_ini}/{var_cat}.{list(v_4.keys())[1]}/{dataset}_{list(v_4.keys())[1]}_{des[0]}{str(cnt_1+1)}.nc\"                        \n",
    "                        \n",
    "                        # Leemos los datos desde el disco duro\n",
    "                        DATAX_0 = xr.open_dataset(MODEL_DATA_X_pre).sel(Y=slice(30,-30), X=slice(90,300))\n",
    "                        DATAY_0 = xr.open_dataset(MODEL_DATA_Y_pre).sel(Y=slice(30,-30), X=slice(90,300))\n",
    "                        DATAX_1 = xr.open_dataset(MODEL_DATA_X_post).sel(Y=slice(30,-30), X=slice(90,300))\n",
    "                        DATAY_1 = xr.open_dataset(MODEL_DATA_Y_post).sel(Y=slice(30,-30), X=slice(90,300))                        \n",
    "                        \n",
    "                        # Convertir a esfuerzo de vientos\n",
    "                        TX_0, TY_0 = wind_to_stress( getattr(DATAX_0,\"10u\"), getattr(DATAY_0,\"10v\"))\n",
    "                        TX_1, TY_1 = wind_to_stress( getattr(DATAX_1,\"10u\"), getattr(DATAY_1,\"10v\"))                        \n",
    "                        \n",
    "                        # Hacer el calculo para el promedio diario\n",
    "                        TX_array                      =  xr.DataArray((TX_0[:,:,::-1,:] + TX_1[:,:,::-1,:])/2,\n",
    "                                                                      coords=[DATAX_0.S, np.array([cnt_1+0.5]) , DATAX_0.Y.values[::-1], DATAX_0.X],\n",
    "                                                                      dims=[\"time\",\"lead\",\"lat\",\"lon\"])\n",
    "                        TY_array                      =  xr.DataArray((TY_0[:,:,::-1,:] + TY_1[:,:,::-1,:])/2,\n",
    "                                                                      coords=[DATAX_0.S, np.array([cnt_1+0.5]) , DATAX_0.Y.values[::-1], DATAX_0.X],\n",
    "                                                                      dims=[\"time\",\"lead\",\"lat\",\"lon\"])                        \n",
    "                        \n",
    "                        # Liberar espacio de memoria\n",
    "                        DATAX_0.close()\n",
    "                        DATAY_0.close()\n",
    "                        DATAX_1.close()\n",
    "                        DATAY_1.close()\n",
    "                        del TX_0\n",
    "                        del TX_1 \n",
    "                        del TY_0\n",
    "                        del TY_1 \n",
    "                        gc.collect()\n",
    "                        \n",
    "                        # Regrillado y relleno de datos\n",
    "                        ds_MOM         = xr.Dataset(\n",
    "                                                    {'lon':(['lon'], np.arange(90,299,1)), 'lat':(['lat'], np.arange(-30,30.5,0.5))}\n",
    "                                                    )\n",
    "                        regridder      = xe.Regridder(TX_array, ds_MOM, \"bilinear\") \n",
    "                        regridder.clean_weight_file() \n",
    "                        date_current = pd.date_range( str(TX_array.time.values[0])[:10], str(TX_array.time.values[-1])[:10], freq=\"D\")\n",
    "                        TX_MOM = regridder(TX_array).interpolate_na(dim=\"lon\", method=\"zero\", fill_value=\"extrapolate\").interpolate_na(dim=\"time\", method=\"cubic\", fill_value=\"extrapolate\").values\n",
    "                        TY_MOM = regridder(TY_array).interpolate_na(dim=\"lon\", method=\"zero\", fill_value=\"extrapolate\").interpolate_na(dim=\"time\", method=\"cubic\", fill_value=\"extrapolate\").values                        \n",
    "                        TX_array_MOM                      =  xr.DataArray(np.float32(TX_MOM),\n",
    "                                                                      coords=[TX_array.time, np.array([cnt_1+0.5]) , ds_MOM.lat, ds_MOM.lon],\n",
    "                                                                      dims=[\"time\",\"lead\",\"lat\",\"lon\"])\n",
    "                        TY_array_MOM                      =  xr.DataArray(np.float32(TY_MOM),\n",
    "                                                                      coords=[TY_array.time, np.array([cnt_1+0.5]) , ds_MOM.lat, ds_MOM.lon],\n",
    "                                                                      dims=[\"time\",\"lead\",\"lat\",\"lon\"])\n",
    "                        \n",
    "                        # Liberar espacio de memoria\n",
    "                        TX_array.close()\n",
    "                        TY_array.close()\n",
    "                        del TX_MOM\n",
    "                        del TY_MOM\n",
    "                        gc.collect()\n",
    "                        \n",
    "                        # Calculo de Anomalias y Climatologias\n",
    "                        TX_anom_MOM, TX_Clim_MOM = anom_clim( TX_array_MOM, int(TX_array_MOM.lead.values[0]))\n",
    "                        TY_anom_MOM, TY_Clim_MOM = anom_clim( TY_array_MOM, int(TY_array_MOM.lead.values[0]))\n",
    "                        TX_array_MOM             = TX_array_MOM.chunk(chunks={'time': 1})\n",
    "                        TY_array_MOM             = TY_array_MOM.chunk(chunks={'time': 1})                        \n",
    "                        TAU                      = xr.Dataset({'taux': TX_array_MOM, 'tauy': TY_array_MOM})\n",
    "                        ATAU                     = xr.Dataset({'ataux': TX_anom_MOM, 'atauy': TY_anom_MOM})\n",
    "                        TAU_CLIM                 = xr.Dataset({'tx_clim': TX_Clim_MOM, 'ty_clim': TY_Clim_MOM})                        \n",
    "                        \n",
    "                        # Registro de datos\n",
    "                        TAU_CLIM.to_netcdf(OUTPUT_DIR+\"CLIMATOLOGIA/\"+f\"Climatologia_{str(TX_array_MOM.time.values[0])[:4]}_{str(TX_array_MOM.time.values[-1])[:4]}_lead_{cnt_1}_M0.nc\")\n",
    "                        for enum, date_ in enumerate(TX_array_MOM.time.values):\n",
    "                            # if enum == 5:\n",
    "                            #     break\n",
    "                            check_dir(OUTPUT_DIR+\"TAU/\"+str(date_)[:4], str(date_)[:10])\n",
    "                            check_dir(OUTPUT_DIR+\"ANOMALIAS/\"+str(date_)[:4], str(date_)[:10])\n",
    "                            TAU.isel(time=enum).to_netcdf(OUTPUT_DIR+\"TAU/\"+str(date_)[:4]+\"/\"+str(date_)[:10]+\"/\"+str(date_)[:10]+f\"-lead_{cnt_1}_M0.nc\")\n",
    "                            ATAU.isel(time=enum).to_netcdf(OUTPUT_DIR+\"ANOMALIAS/\"+str(date_)[:4]+\"/\"+str(date_)[:10]+\"/\"+str(date_)[:10]+f\"-lead_{cnt_1}_M0.nc\")\n",
    "                            print(enum, str(date_)[:10])  \n",
    "                            \n",
    "                        print(MODEL_DATA_X_pre)\n",
    "                        print(MODEL_DATA_Y_pre)\n",
    "                        print(MODEL_DATA_X_post)\n",
    "                        print(MODEL_DATA_Y_post)  \n",
    "                        print(\"paso\")\n",
    "                else:\n",
    "                    v_5 = dic_inf[\"10u\"]  #Se asume que ambas suvbcategorias tienen el mismo grillado L\n",
    "                    des = list(v_5.keys())\n",
    "                    for cnt_1 in range(v_5[des[0]].shape[0]-1):\n",
    "                        for cnt_2,_ in enumerate(v_5[des[1]]):\n",
    "                            MODEL_DATA_X_pre  = INPUT_DATA + f\"{model_name}/{type_sim}/{type_ini}/{var_cat}.{list(v_4.keys())[0]}/{dataset}_{list(v_4.keys())[0]}_{des[0]}{str(cnt_1)}_{des[1]}{str(cnt_2)}.nc\"\n",
    "                            MODEL_DATA_Y_pre  = INPUT_DATA + f\"{model_name}/{type_sim}/{type_ini}/{var_cat}.{list(v_4.keys())[1]}/{dataset}_{list(v_4.keys())[1]}_{des[0]}{str(cnt_1)}_{des[1]}{str(cnt_2)}.nc\"\n",
    "                            MODEL_DATA_X_post = INPUT_DATA + f\"{model_name}/{type_sim}/{type_ini}/{var_cat}.{list(v_4.keys())[0]}/{dataset}_{list(v_4.keys())[0]}_{des[0]}{str(cnt_1+1)}_{des[1]}{str(cnt_2)}.nc\"\n",
    "                            MODEL_DATA_Y_post = INPUT_DATA + f\"{model_name}/{type_sim}/{type_ini}/{var_cat}.{list(v_4.keys())[1]}/{dataset}_{list(v_4.keys())[1]}_{des[0]}{str(cnt_1+1)}_{des[1]}{str(cnt_2)}.nc\"                            \n",
    "                    "
   ]
  }
 ],
 "metadata": {
  "kernelspec": {
   "display_name": "Python 3",
   "language": "python",
   "name": "python3"
  },
  "language_info": {
   "codemirror_mode": {
    "name": "ipython",
    "version": 3
   },
   "file_extension": ".py",
   "mimetype": "text/x-python",
   "name": "python",
   "nbconvert_exporter": "python",
   "pygments_lexer": "ipython3",
   "version": "3.7.6"
  }
 },
 "nbformat": 4,
 "nbformat_minor": 5
}
